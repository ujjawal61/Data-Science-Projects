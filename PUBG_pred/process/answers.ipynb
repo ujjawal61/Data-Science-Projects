{
 "cells": [
  {
   "cell_type": "code",
   "execution_count": 14,
   "metadata": {},
   "outputs": [],
   "source": [
    "import pickle\n",
    "from keras.models import load_model\n",
    "import numpy as np"
   ]
  },
  {
   "cell_type": "code",
   "execution_count": 12,
   "metadata": {},
   "outputs": [],
   "source": [
    "knn = pickle.load(open('model/knn','rb'))\n",
    "lightgbm = pickle.load(open('model/lightgbm','rb'))\n",
    "nn1 = load_model('model/nn.h5')\n",
    "nn2 = load_model('model/nn2.h5')\n",
    "svc = pickle.load(open('model/svc','rb'))\n",
    "xgboost = pickle.load(open('model/xgboost','rb'))\n",
    "catboost= pickle.load(open('model/catboost.sav','rb'))"
   ]
  },
  {
   "cell_type": "code",
   "execution_count": 13,
   "metadata": {},
   "outputs": [],
   "source": [
    "with open('model/variables/scaler','rb') as f:\n",
    "    scaler=pickle.load(f)\n",
    "with open('model/variables/matchtype_enc','rb')as f:\n",
    "    matchtype_enc=pickle.load(f)\n",
    "with open('model/variables/num_max','rb')as f:\n",
    "    num_max=pickle.load(f)\n",
    "with open('model/variables/win_kill','rb')as f:\n",
    "    win_kill=pickle.load(f)"
   ]
  },
  {
   "cell_type": "code",
   "execution_count": 298,
   "metadata": {},
   "outputs": [],
   "source": [
    "#assists,boosts,damageDealt,DBNOs,headshotKills,heals,killPlace,kills,killStreaks,longestKill,matchDuration,matchType,revives,roadKills,teamKills,vehicleDestroys,weaponsAcquired,distance,win_kills_points,maxplace_numgrp\n",
    "arr1=[0,0,0,0,0,0,60,1241,0,0,0,1306,'squad',28,26,0,0.0000,0,0.0000,0,0,244.8000,1,1466]"
   ]
  },
  {
   "cell_type": "code",
   "execution_count": 293,
   "metadata": {},
   "outputs": [
    {
     "name": "stderr",
     "output_type": "stream",
     "text": [
      "C:\\Users\\uagga\\anaconda3\\lib\\site-packages\\sklearn\\utils\\validation.py:72: DataConversionWarning: A column-vector y was passed when a 1d array was expected. Please change the shape of y to (n_samples, ), for example using ravel().\n",
      "  return f(**kwargs)\n"
     ]
    }
   ],
   "source": [
    "arr=arr1\n",
    "#CONVERTING MATCH TYPE\n",
    "temp=np.array(arr[12]).reshape(1,1)\n",
    "enc=int(matchtype_enc.transform(temp)[0])\n",
    "if(enc==1):\n",
    "    enc=0.45299\n",
    "if(enc==1):\n",
    "    enc=0.483954\n",
    "if(enc==2):\n",
    "    enc=0.485855\n",
    "else:\n",
    "    enc=0.460818\n",
    "arr[12]=enc\n",
    "\n",
    "#handling distance\n",
    "distance=float(arr[16])+float(arr[18])+float(arr[21])\n",
    "arr=np.append(arr,distance)\n",
    "arr=np.delete(arr,[16,18,21])\n",
    "\n",
    "# hadling win kill\n",
    "temp=np.array([int(arr[7]),int(arr[20])]).reshape(1,-1)\n",
    "win_k=win_kill.transform(temp)[0][0]\n",
    "arr=np.delete(arr,[7,20])\n",
    "arr=np.append(arr,win_k)\n",
    "\n",
    "# #handling num_max\n",
    "temp=np.array([int(arr[12]),int(arr[13])]).reshape(1,-1)\n",
    "num_m=num_max.transform(temp)[0][0]\n",
    "arr=np.delete(arr,[12,13])\n",
    "arr=np.append(arr,num_m)\n",
    "\n",
    "\n",
    "arr=list(map(float,arr))\n",
    "arr=np.array(arr)\n",
    "arr=arr.reshape(1,20)\n",
    "arr=scaler.transform(arr)\n",
    "pred=list()\n",
    "pred.append(nn1.predict(arr)[0][0])\n",
    "pred.append(knn.predict(arr)[0])\n",
    "pred.append(knn2.predict(arr)[0])\n",
    "pred.append(catboost.predict(arr)[0])\n",
    "pred.append(lightgbm.predict(arr)[0])\n",
    "pred.append(svc.predict(arr)[0])\n",
    "pred.append(xgboost.predict(arr)[0])\n",
    "pred=np.array(pred).reshape(1,-1)\n",
    "final_pred=lr.predict(pred)[0]"
   ]
  }
 ],
 "metadata": {
  "kernelspec": {
   "display_name": "Python 3",
   "language": "python",
   "name": "python3"
  },
  "language_info": {
   "codemirror_mode": {
    "name": "ipython",
    "version": 3
   },
   "file_extension": ".py",
   "mimetype": "text/x-python",
   "name": "python",
   "nbconvert_exporter": "python",
   "pygments_lexer": "ipython3",
   "version": "3.8.5"
  }
 },
 "nbformat": 4,
 "nbformat_minor": 4
}
